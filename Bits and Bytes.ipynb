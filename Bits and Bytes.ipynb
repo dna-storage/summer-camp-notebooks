{
 "cells": [
  {
   "cell_type": "markdown",
   "id": "53a5d21b",
   "metadata": {},
   "source": [
    "# Bits and Bytes\n",
    "\n",
    "This notebook lets you see what bits and bytes look like in binary. Then, it lets you explore them in DNA, too.\n",
    "\n",
    "You don't need to understand this first block of code. Just click play to make sure the notebook knows about it. Then, move on to the next few examples."
   ]
  },
  {
   "cell_type": "code",
   "execution_count": 1,
   "id": "1082f3e7",
   "metadata": {},
   "outputs": [],
   "source": [
    "from dnastorage.codec.base_conversion import convertIntToBytes, convertToAnyBase\n",
    "from scripts.filebits import show_bits, reverse"
   ]
  },
  {
   "cell_type": "markdown",
   "id": "cdfaf1b3",
   "metadata": {},
   "source": [
    "We can use the show_bits function to examine the bits of any integer:"
   ]
  },
  {
   "cell_type": "code",
   "execution_count": 2,
   "id": "8c159b60",
   "metadata": {},
   "outputs": [
    {
     "name": "stdout",
     "output_type": "stream",
     "text": [
      "0 1 1 0 0 1 1 0\n"
     ]
    }
   ],
   "source": [
    "show_bits(102)"
   ]
  },
  {
   "cell_type": "markdown",
   "id": "a6c113ee",
   "metadata": {},
   "source": [
    "A binary number is just like a decimal number in that each position conveys place value.  100 in base-10 is really this polynomial:\n",
    "\n",
    "$1 \\times 10^2 + 2 * 10^0$\n",
    "\n",
    "But, rather than conveying powers of 10s, binary conveys powers of 2. The number 102 in base-2 is:\n",
    "\n",
    "01100110\n",
    "\n",
    "We can write this out long style using a polynomial:\n",
    "\n",
    "$102 = 1 \\times 2^6 + 1 \\times 2^5 + 1 \\times 2^2 + 2 \\times 2^0 = 64 + 32 + 4 + 2$\n"
   ]
  },
  {
   "cell_type": "code",
   "execution_count": 3,
   "id": "3e333fcf",
   "metadata": {},
   "outputs": [
    {
     "name": "stdout",
     "output_type": "stream",
     "text": [
      "0 0 0 0 0 0 1 1 1 1 1 1 1 1 1 1\n"
     ]
    }
   ],
   "source": [
    "show_bits(1023)"
   ]
  },
  {
   "cell_type": "code",
   "execution_count": 4,
   "id": "19d0c471",
   "metadata": {},
   "outputs": [
    {
     "name": "stdout",
     "output_type": "stream",
     "text": [
      "  0 is:  0 0 0 0 0 0 0 0\n",
      "  1 is:  0 0 0 0 0 0 0 1\n",
      "  2 is:  0 0 0 0 0 0 1 0\n",
      "  3 is:  0 0 0 0 0 0 1 1\n",
      "  4 is:  0 0 0 0 0 1 0 0\n",
      "  5 is:  0 0 0 0 0 1 0 1\n",
      "  6 is:  0 0 0 0 0 1 1 0\n",
      "  7 is:  0 0 0 0 0 1 1 1\n",
      "102 is:  0 1 1 0 0 1 1 0\n"
     ]
    }
   ],
   "source": [
    "# loop over list of integers and print each one in binary\n",
    "#                             \n",
    "#                            VV add a number to end of list, be sure to use a comma!\n",
    "for k in [0, 1,2,3,4,5,6,7,102]:\n",
    "   print(\"{:3} is:  \".format(k),end=\"\")\n",
    "   show_bits(k)"
   ]
  },
  {
   "cell_type": "code",
   "execution_count": 5,
   "id": "409f0bd3",
   "metadata": {},
   "outputs": [
    {
     "name": "stdout",
     "output_type": "stream",
     "text": [
      "0 1 1 0 1 0 0 0\n"
     ]
    }
   ],
   "source": [
    "# show bits of a character\n",
    "show_bits('h')"
   ]
  },
  {
   "cell_type": "code",
   "execution_count": 6,
   "id": "12233919",
   "metadata": {},
   "outputs": [
    {
     "name": "stdout",
     "output_type": "stream",
     "text": [
      "0 1 0 0 0 0 0 0\n"
     ]
    }
   ],
   "source": [
    "# show bits of a special symbol\n",
    "show_bits('@')"
   ]
  },
  {
   "cell_type": "code",
   "execution_count": 7,
   "id": "9e6f4294",
   "metadata": {},
   "outputs": [
    {
     "name": "stdout",
     "output_type": "stream",
     "text": [
      "0 1 0 0 1 0 0 0 0 1 1 0 0 1 0 1 0 1 1 0 1 1 0 0 0 1 1 0 1 1 0 0 0 1 1 0 1 1 1 1 0 0 1 0 1 1 0 0 0 0 1 0 0 0 0 0 0 1 0 1 0 1 1 1 0 1 1 0 1 1 1 1 0 1 1 1 0 0 1 0 0 1 1 0 1 1 0 0 0 1 1 0 0 1 0 0 0 0 1 0 0 0 0 1\n"
     ]
    }
   ],
   "source": [
    "# show the bits of a string\n",
    "show_bits('Hello, World!')"
   ]
  },
  {
   "cell_type": "markdown",
   "id": "138c8e2b",
   "metadata": {},
   "source": [
    "## Convert to Any Base\n",
    "Suppose you want to represent the number in another base that isn't base-10 or binary, maybe base-4 like DNA? We can do that, too, using the convertToAnyBase function!\n",
    "\n",
    "The convertToAnyBase function takes a few parameters:\n",
    "  1. the base to use\n",
    "  2. the number to convert\n",
    "  3. the number of place digits to output\n",
    "  4. the actual symbols to use. Note, the number of symbols must match the first argument, and they should be unique. \n",
    "  \n",
    "In the following code, we convert 102 into base-8.  Base-8 has a special name: octal. "
   ]
  },
  {
   "cell_type": "code",
   "execution_count": 8,
   "id": "8e0cdcd3",
   "metadata": {},
   "outputs": [
    {
     "data": {
      "text/plain": [
       "'641'"
      ]
     },
     "execution_count": 8,
     "metadata": {},
     "output_type": "execute_result"
    }
   ],
   "source": [
    "s = convertToAnyBase(8,102,3,symbols=['0','1','2','3','4','5','6','7'])\n",
    "s"
   ]
  },
  {
   "cell_type": "markdown",
   "id": "efeee02b",
   "metadata": {},
   "source": [
    "If this doesn't look correct to you, it may be because this function makes the (seemingly unusual) choice of diplaying the least signficant digit on the left and the most significant digit on the right, which is opposite to how we usually write down numbers.  So, really, we would typicall write it out:\n",
    "\n",
    "102 (base-10) = 146 (base-8)\n",
    "\n",
    "We can use the reverse function to fix it."
   ]
  },
  {
   "cell_type": "code",
   "execution_count": 11,
   "id": "b7b64203",
   "metadata": {},
   "outputs": [
    {
     "data": {
      "text/plain": [
       "'146'"
      ]
     },
     "execution_count": 11,
     "metadata": {},
     "output_type": "execute_result"
    }
   ],
   "source": [
    "reverse(s)"
   ]
  },
  {
   "cell_type": "code",
   "execution_count": 12,
   "id": "31fb6ede",
   "metadata": {},
   "outputs": [
    {
     "data": {
      "text/plain": [
       "'1212'"
      ]
     },
     "execution_count": 12,
     "metadata": {},
     "output_type": "execute_result"
    }
   ],
   "source": [
    "reverse(convertToAnyBase(4,102,4,symbols=['0','1','2','3']))"
   ]
  },
  {
   "cell_type": "markdown",
   "id": "b535d2f3",
   "metadata": {},
   "source": [
    "102 (base-10) = 1212 (base-4)"
   ]
  },
  {
   "cell_type": "code",
   "execution_count": 13,
   "id": "43b15bde",
   "metadata": {},
   "outputs": [
    {
     "data": {
      "text/plain": [
       "'CGCG'"
      ]
     },
     "execution_count": 13,
     "metadata": {},
     "output_type": "execute_result"
    }
   ],
   "source": [
    "reverse(convertToAnyBase(4,102,4,symbols=['A','C','G','T']))"
   ]
  },
  {
   "cell_type": "markdown",
   "id": "e23226f0",
   "metadata": {},
   "source": [
    "102 (base-10) = CGCG (DNA) \n",
    "\n",
    "Note, our choice of A=0, C=1, G=2, and T=3 is just arbitrary. We could choose any mapping we wanted. In fact, if you think about it, our own numbers are arbitary too!  We could use 8 to mean 5 or 6 to mean 3. But, we didn't, and if we changed now, we would all be really confused!"
   ]
  },
  {
   "cell_type": "code",
   "execution_count": 18,
   "id": "30b41e63",
   "metadata": {},
   "outputs": [
    {
     "data": {
      "text/plain": [
       "['AAAA',\n",
       " 'AAAC',\n",
       " 'AAAG',\n",
       " 'AAAT',\n",
       " 'AACA',\n",
       " 'AACC',\n",
       " 'AACG',\n",
       " 'AACT',\n",
       " 'AAGA',\n",
       " 'AAGC',\n",
       " 'AAGG',\n",
       " 'AAGT',\n",
       " 'AATA',\n",
       " 'AATC',\n",
       " 'AATG',\n",
       " 'AATT',\n",
       " 'ACAA',\n",
       " 'ACAC',\n",
       " 'ACAG',\n",
       " 'ACAT',\n",
       " 'ACCA',\n",
       " 'ACCC',\n",
       " 'ACCG',\n",
       " 'ACCT',\n",
       " 'ACGA',\n",
       " 'ACGC',\n",
       " 'ACGG',\n",
       " 'ACGT',\n",
       " 'ACTA',\n",
       " 'ACTC',\n",
       " 'ACTG',\n",
       " 'ACTT',\n",
       " 'AGAA',\n",
       " 'AGAC',\n",
       " 'AGAG',\n",
       " 'AGAT',\n",
       " 'AGCA',\n",
       " 'AGCC',\n",
       " 'AGCG',\n",
       " 'AGCT',\n",
       " 'AGGA',\n",
       " 'AGGC',\n",
       " 'AGGG',\n",
       " 'AGGT',\n",
       " 'AGTA',\n",
       " 'AGTC',\n",
       " 'AGTG',\n",
       " 'AGTT',\n",
       " 'ATAA',\n",
       " 'ATAC',\n",
       " 'ATAG',\n",
       " 'ATAT',\n",
       " 'ATCA',\n",
       " 'ATCC',\n",
       " 'ATCG',\n",
       " 'ATCT',\n",
       " 'ATGA',\n",
       " 'ATGC',\n",
       " 'ATGG',\n",
       " 'ATGT',\n",
       " 'ATTA',\n",
       " 'ATTC',\n",
       " 'ATTG',\n",
       " 'ATTT']"
      ]
     },
     "execution_count": 18,
     "metadata": {},
     "output_type": "execute_result"
    }
   ],
   "source": [
    "# Lets count to 64 in and show each number in DNA\n",
    "[ reverse(convertToAnyBase(4,_,4,symbols=['A','C','G','T'])) for _ in range(64)]"
   ]
  },
  {
   "cell_type": "code",
   "execution_count": 19,
   "id": "719f070a",
   "metadata": {},
   "outputs": [
    {
     "data": {
      "text/plain": [
       "['0000',\n",
       " '0001',\n",
       " '0002',\n",
       " '0003',\n",
       " '0004',\n",
       " '0005',\n",
       " '0006',\n",
       " '0007',\n",
       " '0008',\n",
       " '0009',\n",
       " '0010',\n",
       " '0011',\n",
       " '0012',\n",
       " '0013',\n",
       " '0014',\n",
       " '0015',\n",
       " '0016',\n",
       " '0017',\n",
       " '0018',\n",
       " '0019',\n",
       " '0020',\n",
       " '0021',\n",
       " '0022',\n",
       " '0023',\n",
       " '0024',\n",
       " '0025',\n",
       " '0026',\n",
       " '0027',\n",
       " '0028',\n",
       " '0029',\n",
       " '0030',\n",
       " '0031',\n",
       " '0032',\n",
       " '0033',\n",
       " '0034',\n",
       " '0035',\n",
       " '0036',\n",
       " '0037',\n",
       " '0038',\n",
       " '0039',\n",
       " '0040',\n",
       " '0041',\n",
       " '0042',\n",
       " '0043',\n",
       " '0044',\n",
       " '0045',\n",
       " '0046',\n",
       " '0047',\n",
       " '0048',\n",
       " '0049',\n",
       " '0050',\n",
       " '0051',\n",
       " '0052',\n",
       " '0053',\n",
       " '0054',\n",
       " '0055',\n",
       " '0056',\n",
       " '0057',\n",
       " '0058',\n",
       " '0059',\n",
       " '0060',\n",
       " '0061',\n",
       " '0062',\n",
       " '0063']"
      ]
     },
     "execution_count": 19,
     "metadata": {},
     "output_type": "execute_result"
    }
   ],
   "source": [
    "# just for fun, do it in base 10 for comparison\n",
    "[ reverse(convertToAnyBase(10,_,4,symbols=['0','1','2','3','4','5','6','7','8','9'])) for _ in range(64)]"
   ]
  },
  {
   "cell_type": "code",
   "execution_count": null,
   "id": "1df0790e",
   "metadata": {},
   "outputs": [],
   "source": []
  }
 ],
 "metadata": {
  "kernelspec": {
   "display_name": "Python 3 (ipykernel)",
   "language": "python",
   "name": "python3"
  },
  "language_info": {
   "codemirror_mode": {
    "name": "ipython",
    "version": 3
   },
   "file_extension": ".py",
   "mimetype": "text/x-python",
   "name": "python",
   "nbconvert_exporter": "python",
   "pygments_lexer": "ipython3",
   "version": "3.9.9"
  }
 },
 "nbformat": 4,
 "nbformat_minor": 5
}
