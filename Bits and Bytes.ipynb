{
 "cells": [
  {
   "cell_type": "code",
   "execution_count": 85,
   "id": "1082f3e7",
   "metadata": {},
   "outputs": [],
   "source": [
    "from bitarray import bitarray\n",
    "from dnastorage.codec.base_conversion import convertIntToBytes\n",
    "from math import log2,ceil\n",
    "\n",
    "# helper function to know how many bytes are needed for a given integer\n",
    "def num_bytes(a):\n",
    "    if a<=1:\n",
    "        return 1    \n",
    "    return ceil(log2(abs(a))/log2(256))\n",
    "\n",
    "def num_bits(a):\n",
    "    return num_bytes(a)*8"
   ]
  },
  {
   "cell_type": "code",
   "execution_count": 86,
   "id": "d435f2f5",
   "metadata": {},
   "outputs": [],
   "source": [
    "def show_bits(a, join_char=\" \"):\n",
    "    ba = bitarray()\n",
    "    if type(a) == int:\n",
    "        a = convertIntToBytes(a,num_bytes(a))\n",
    "        ba.frombytes(bytes(a))\n",
    "    elif type(a) == list:\n",
    "        res = []\n",
    "        for j in a:\n",
    "            res += convertIntToBytes(j,num_bytes(j))            \n",
    "        ba.frombytes(bytes(a))\n",
    "    elif type(a) == str:\n",
    "        a = bytes(a,'utf-8')\n",
    "        ba.frombytes(a)            \n",
    "    \n",
    "    print (\"{}\".format(join_char.join([\"{}\".format(_) for _ in ba.tolist()])))"
   ]
  },
  {
   "cell_type": "markdown",
   "id": "cdfaf1b3",
   "metadata": {},
   "source": [
    "We can use the show_bits function to examine the bits of any integer:"
   ]
  },
  {
   "cell_type": "code",
   "execution_count": 73,
   "id": "8c159b60",
   "metadata": {},
   "outputs": [
    {
     "name": "stdout",
     "output_type": "stream",
     "text": [
      "0 1 1 0 0 1 0 0\n"
     ]
    }
   ],
   "source": [
    "show_bits(100)"
   ]
  },
  {
   "cell_type": "code",
   "execution_count": 74,
   "id": "3e333fcf",
   "metadata": {},
   "outputs": [
    {
     "name": "stdout",
     "output_type": "stream",
     "text": [
      "1 1 1 1 1 1 1 1 0 0 0 0 0 0 1 1\n"
     ]
    }
   ],
   "source": [
    "show_bits(1023)"
   ]
  },
  {
   "cell_type": "code",
   "execution_count": 99,
   "id": "19d0c471",
   "metadata": {},
   "outputs": [
    {
     "name": "stdout",
     "output_type": "stream",
     "text": [
      "  0 is:  0 0 0 0 0 0 0 0\n",
      "  1 is:  0 0 0 0 0 0 0 1\n",
      "  2 is:  0 0 0 0 0 0 1 0\n",
      "  3 is:  0 0 0 0 0 0 1 1\n",
      "  4 is:  0 0 0 0 0 1 0 0\n",
      "  5 is:  0 0 0 0 0 1 0 1\n",
      "  6 is:  0 0 0 0 0 1 1 0\n",
      "  7 is:  0 0 0 0 0 1 1 1\n",
      "102 is:  0 1 1 0 0 1 1 0\n"
     ]
    }
   ],
   "source": [
    "# loop over list of integers and print each one in binary\n",
    "for k in [0, 1,2,3,4,5,6,7,102]:\n",
    "   print(\"{:3} is:  \".format(k),end=\"\")\n",
    "   show_bits(k)"
   ]
  },
  {
   "cell_type": "code",
   "execution_count": 89,
   "id": "9e6f4294",
   "metadata": {},
   "outputs": [
    {
     "name": "stdout",
     "output_type": "stream",
     "text": [
      "0 1 0 0 1 0 0 0 0 1 1 0 0 1 0 1 0 1 1 0 1 1 0 0 0 1 1 0 1 1 0 0 0 1 1 0 1 1 1 1 0 0 1 0 1 1 0 0 0 0 1 0 0 0 0 0 0 1 0 1 0 1 1 1 0 1 1 0 1 1 1 1 0 1 1 1 0 0 1 0 0 1 1 0 1 1 0 0 0 1 1 0 0 1 0 0 0 0 1 0 0 0 0 1\n"
     ]
    }
   ],
   "source": [
    "# show the bits of a string\n",
    "show_bits('Hello, World!')"
   ]
  },
  {
   "cell_type": "code",
   "execution_count": 84,
   "id": "409f0bd3",
   "metadata": {},
   "outputs": [
    {
     "name": "stdout",
     "output_type": "stream",
     "text": [
      "0 1 1 0 1 0 0 0\n"
     ]
    }
   ],
   "source": [
    "show_bits('h')"
   ]
  },
  {
   "cell_type": "code",
   "execution_count": 103,
   "id": "12233919",
   "metadata": {},
   "outputs": [
    {
     "name": "stdout",
     "output_type": "stream",
     "text": [
      "0 1 0 0 0 0 0 0\n"
     ]
    }
   ],
   "source": [
    "show_bits('@')"
   ]
  },
  {
   "cell_type": "code",
   "execution_count": null,
   "id": "8e0cdcd3",
   "metadata": {},
   "outputs": [],
   "source": []
  }
 ],
 "metadata": {
  "kernelspec": {
   "display_name": "Python 3 (ipykernel)",
   "language": "python",
   "name": "python3"
  },
  "language_info": {
   "codemirror_mode": {
    "name": "ipython",
    "version": 3
   },
   "file_extension": ".py",
   "mimetype": "text/x-python",
   "name": "python",
   "nbconvert_exporter": "python",
   "pygments_lexer": "ipython3",
   "version": "3.9.9"
  }
 },
 "nbformat": 4,
 "nbformat_minor": 5
}
