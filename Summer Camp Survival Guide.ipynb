{
 "cells": [
  {
   "cell_type": "markdown",
   "id": "45e3db31",
   "metadata": {},
   "source": [
    "# Summer Camp Survival Guide\n",
    "\n",
    "Several Jupyter notebooks here can help you explore how to encode information into DNA.  Here are links to each one:\n",
    "\n",
    "- [Bits And Bytes](Bits%20and%20Bytes.ipynb)\n",
    "\n",
    "    * Provides a function that will turn any integer number or string into a bunch of bits. \n",
    "\n",
    "- [Bits and Files](Bits%20in%20a%20File.ipynb)\n",
    "\n",
    "    * Provides a function that will take a file and turn it into a number of equal sized blocks of bits or characters.\n",
    "    \n",
    "- [Encoding a File](Encode%20a%20message%20into%20DNA.ipynb)\n",
    "\n",
    "    * An implementation of an encoder that uses a codebook to converts a textual message into DNA. This can be used to design strands.\n",
    "    \n",
    "    \n",
    "If you've never used a Jupyter notebook before, here's a brief explanation:\n",
    "- [Basics of Jupyter Notebooks](Basics%20of%20Jupyter%20Notebooks.ipynb)"
   ]
  },
  {
   "cell_type": "code",
   "execution_count": null,
   "id": "c21d558b",
   "metadata": {},
   "outputs": [],
   "source": []
  }
 ],
 "metadata": {
  "kernelspec": {
   "display_name": "Python 3 (ipykernel)",
   "language": "python",
   "name": "python3"
  },
  "language_info": {
   "codemirror_mode": {
    "name": "ipython",
    "version": 3
   },
   "file_extension": ".py",
   "mimetype": "text/x-python",
   "name": "python",
   "nbconvert_exporter": "python",
   "pygments_lexer": "ipython3",
   "version": "3.9.9"
  }
 },
 "nbformat": 4,
 "nbformat_minor": 5
}
