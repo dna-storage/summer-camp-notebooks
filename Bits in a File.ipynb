{
 "cells": [
  {
   "cell_type": "code",
   "execution_count": 1,
   "id": "2782ae97",
   "metadata": {},
   "outputs": [],
   "source": [
    "from bitarray import bitarray\n",
    "from math import log10, log2, ceil, sqrt\n",
    "\n",
    "from scripts.filebits import display_bits, display_chars"
   ]
  },
  {
   "cell_type": "code",
   "execution_count": null,
   "id": "c507d5b0",
   "metadata": {
    "scrolled": true
   },
   "outputs": [],
   "source": [
    "# show all the bits in the file with 2 bytes per line. Change the # of bytes\n",
    "# and observe what happens\n",
    "display_bits(\"files/interview.txt\",2)"
   ]
  },
  {
   "cell_type": "code",
   "execution_count": null,
   "id": "d209ae9d",
   "metadata": {
    "scrolled": true
   },
   "outputs": [],
   "source": [
    "# Show characters in the file with 10 chars per line. Change # of chars below to see\n",
    "# a different number of characters per line.\n",
    "\n",
    "# Note: \\n means newline character.  Usually, you can't see a newline, it just makes the\n",
    "# text go to the next line. But, I wanted to show you where the newlines are, so they \n",
    "# appear here as an \"escape sequence\" with the \\ in front of the n.\n",
    "\n",
    "display_chars(\"files/interview.txt\",10)"
   ]
  },
  {
   "cell_type": "markdown",
   "id": "ffaf5180",
   "metadata": {},
   "source": [
    "If you want to experiment with showing the contents of file, you can upload one to the files folder and then run the same function.  To upload a file:\n",
    "  - Click on the Jupyter logo at the top of the screen\n",
    "  - Navigate to the files folder.\n",
    "  - Use the menu to upload a file there.\n",
    "  - Write down your file name so you don't forget, and then come back to this notebook and edit the following command.\n",
    "\n",
    "You just need to change the first argument to the function to have the name of your file and change the number of characters per line.  Note, display_chars only works on text files. If you upload an image or some other kind of file, you will need to use display_bits() instead."
   ]
  },
  {
   "cell_type": "code",
   "execution_count": null,
   "id": "0a0da812",
   "metadata": {
    "scrolled": false
   },
   "outputs": [],
   "source": [
    "display_chars(\"files/interview.txt\",10)"
   ]
  },
  {
   "cell_type": "code",
   "execution_count": null,
   "id": "ba047b5c",
   "metadata": {},
   "outputs": [],
   "source": []
  }
 ],
 "metadata": {
  "kernelspec": {
   "display_name": "Python 3 (ipykernel)",
   "language": "python",
   "name": "python3"
  },
  "language_info": {
   "codemirror_mode": {
    "name": "ipython",
    "version": 3
   },
   "file_extension": ".py",
   "mimetype": "text/x-python",
   "name": "python",
   "nbconvert_exporter": "python",
   "pygments_lexer": "ipython3",
   "version": "3.9.9"
  }
 },
 "nbformat": 4,
 "nbformat_minor": 5
}
