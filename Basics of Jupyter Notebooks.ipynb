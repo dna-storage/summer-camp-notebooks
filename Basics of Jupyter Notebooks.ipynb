{
 "cells": [
  {
   "cell_type": "markdown",
   "id": "6e0f8c27",
   "metadata": {},
   "source": [
    "# Introduction to Jupyter Notebook"
   ]
  },
  {
   "cell_type": "markdown",
   "id": "1992ec8e",
   "metadata": {},
   "source": [
    "A jupyter notebook let's us run and develop code in a web browser and share it with other people, kind of like a Google Doc. \n",
    "\n",
    "Each cell on this page will be either \n",
    "  - text like this one, \n",
    "  - code like the next one, or \n",
    "  - a result from running code.\n",
    "\n",
    "While several languages are suppoted, python is the most popular.  Each cell below with code is written in the Python language.\n",
    "\n",
    "If it's a code block, you can change it and interact with it. To run it, highlight the cell and then click the \"Run\" button that has a triangle on it.\n",
    "\n",
    "Here's an example block of code for printing a message to the screen:"
   ]
  },
  {
   "cell_type": "code",
   "execution_count": 2,
   "id": "4b079b8e",
   "metadata": {},
   "outputs": [
    {
     "name": "stdout",
     "output_type": "stream",
     "text": [
      "Hello, Campers!\n"
     ]
    }
   ],
   "source": [
    "print(\"Hello, Campers!\")"
   ]
  },
  {
   "cell_type": "markdown",
   "id": "dbee61ce",
   "metadata": {},
   "source": [
    "Try changing the text in between the quotes. That will change what is printed. Be sure to click the Run button after your changes.\n",
    "\n",
    "We can put almost any kind of python code in these blocks. Mathematical formulas are often useful here because we can write them out and then check them. In the next cell, note that even if we don't use a print, we can display the final result by writing x on a line by itself. This tells the notebook to show us the value in x."
   ]
  },
  {
   "cell_type": "code",
   "execution_count": 9,
   "id": "e94ea7df",
   "metadata": {},
   "outputs": [
    {
     "data": {
      "text/plain": [
       "33.333333333333336"
      ]
     },
     "execution_count": 9,
     "metadata": {},
     "output_type": "execute_result"
    }
   ],
   "source": [
    "x = 100 / 3  # division with fractional results\n",
    "x"
   ]
  },
  {
   "cell_type": "code",
   "execution_count": 1,
   "id": "e3f0fd51",
   "metadata": {},
   "outputs": [
    {
     "data": {
      "text/plain": [
       "206"
      ]
     },
     "execution_count": 1,
     "metadata": {},
     "output_type": "execute_result"
    }
   ],
   "source": [
    "x = (100 + 3) * 2 \n",
    "x"
   ]
  },
  {
   "cell_type": "markdown",
   "id": "0327bafc",
   "metadata": {},
   "source": [
    "Change the equations above to compute other things and see if the answers you get make sense. Here's an empty cell for your own code:"
   ]
  },
  {
   "cell_type": "code",
   "execution_count": 2,
   "id": "ccdcd319",
   "metadata": {},
   "outputs": [
    {
     "data": {
      "text/plain": [
       "206"
      ]
     },
     "execution_count": 2,
     "metadata": {},
     "output_type": "execute_result"
    }
   ],
   "source": [
    "x"
   ]
  }
 ],
 "metadata": {
  "kernelspec": {
   "display_name": "Python 3 (ipykernel)",
   "language": "python",
   "name": "python3"
  },
  "language_info": {
   "codemirror_mode": {
    "name": "ipython",
    "version": 3
   },
   "file_extension": ".py",
   "mimetype": "text/x-python",
   "name": "python",
   "nbconvert_exporter": "python",
   "pygments_lexer": "ipython3",
   "version": "3.9.9"
  }
 },
 "nbformat": 4,
 "nbformat_minor": 5
}
